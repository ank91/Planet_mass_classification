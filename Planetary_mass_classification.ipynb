{
 "cells": [
  {
   "cell_type": "markdown",
   "metadata": {},
   "source": [
    "# Planetary mass classification\n",
    "\n",
    "This are classification is based on planetary mass and total mass for each planetary system. The data are getting from http://exoplanet.eu/\n",
    "\n",
    "The data taking into account are those that have mass value and mass uncertainty. \n",
    "\n",
    "We employ Gaussian Mixture Model (GMM's), as a way to find clusters of points in our dataset that share some common characteristics, clustering an unsupervised learning problem. consult: https://towardsdatascience.com/gaussian-mixture-models-explained-6986aaf5a95, for explanation."
   ]
  },
  {
   "cell_type": "code",
   "execution_count": 1,
   "metadata": {},
   "outputs": [],
   "source": [
    "import pandas as pd \n",
    "import numpy as np\n",
    "from scipy.stats import norm #normal distribution\n",
    "import random\n",
    "from sklearn.mixture import GaussianMixture #gaussian mixture\n",
    "import matplotlib.pyplot as plt\n",
    "%matplotlib inline\n",
    "\n",
    "#Reading the data:\n",
    "data = pd.read_csv('exoplanet.eu_catalog.csv', \n",
    "                   usecols=['star_name','mass','mass_error_min'])\n",
    "\n",
    "#It replaces the inf values and removes the NaN values:\n",
    "data = data.replace([np.inf, -np.inf], np.nan) \n",
    "planet_data = data.dropna(subset=['mass','mass_error_min'])\n",
    "sistem_data = data.dropna(subset=['mass','mass_error_min','star_name'])"
   ]
  },
  {
   "cell_type": "markdown",
   "metadata": {},
   "source": [
    "The variable `sistem_data`, has the planetary masses for planetary sistems that are known, it means ins't NaN values in the column `'star_name'`. There are almost 31 planetary systems without star name."
   ]
  },
  {
   "cell_type": "code",
   "execution_count": 2,
   "metadata": {},
   "outputs": [],
   "source": [
    "#print(len(planet_data),len(sistem_data))"
   ]
  },
  {
   "cell_type": "markdown",
   "metadata": {},
   "source": [
    "### Function: Information Criterion \n",
    "\n",
    "First, we define a function wich gets the information criteria for different numbers of components (the number of mixture components), in order to obtain the minimum value of criterium. The lowest BIC/AIC is preferred.\n",
    "\n",
    "Then, it plots the BIC and AIC values to observe their behavior."
   ]
  },
  {
   "cell_type": "code",
   "execution_count": 3,
   "metadata": {},
   "outputs": [],
   "source": [
    "# \"mass\" must be a column of the dataframe (in this case an array of masses)\n",
    "# \"times\" is the number of clusters in the criteria: AIC and BIC\n",
    "# returns de value of the AIC and BIC criteria. also, returns the plot of the criteria.\n",
    "\n",
    "def inf_criterion(times, mass):\n",
    "    \n",
    "    bic, aic = [], []\n",
    "    \n",
    "    for i in range(times):\n",
    "        i += 1\n",
    "        gmm = GaussianMixture(i, covariance_type='full', random_state=0)\n",
    "        gmm.fit(mass)\n",
    "        bic+=[gmm.bic(mass.values)]\n",
    "        aic+=[gmm.aic(mass.values)]\n",
    "    \n",
    "    criteria = [bic,aic]  \n",
    "    min_criteria = [min(criteria[0]),#/max(criteria[0]),\n",
    "                    min(criteria[1])]#/max(criteria[1])]\n",
    "\n",
    "    #comparison between AIC and BIC criteria----------------(plot)------------------------\n",
    "    figure, ax = plt.subplots(1, 2, sharex='col', \n",
    "                              sharey='row', figsize=(10, 5))\n",
    "    label = ['BIC','AIC']\n",
    "\n",
    "    for i,criterium in enumerate(criteria):\n",
    "        ax[i].plot(range(len(criteria[i])),criteria[i],#/max(criteria[i]), \n",
    "                   \"o\", c=\"C1\",label=label[i])\n",
    "        ax[i].plot(range(len(criteria[i])),criteria[i],#/max(criteria[i]), \n",
    "                   lw=\"2\", label=label[i])\n",
    "        ax[i].plot(range(len(criteria[i])),\n",
    "                   np.ones(len(criteria[i]))*min_criteria[i],\"--\")\n",
    "        ax[i].set(xlabel='n_components')\n",
    "        ax[i].legend(fontsize=11)\n",
    "    ax[0].set(ylabel='criterium value')\n",
    "    plt.subplots_adjust(wspace = .05)\n",
    "    \n",
    "    print('N. of clusters BIC = '+str(criteria[0].index(min(criteria[0]))+1))\n",
    "    print('N. of clusters AIC = '+str(criteria[1].index(min(criteria[1]))+1))\n",
    "\n",
    "    return [bic,aic]"
   ]
  },
  {
   "cell_type": "markdown",
   "metadata": {},
   "source": [
    "### Function: Classification\n",
    "\n",
    "Once the criterion is applied, the classification comes. Here, we employ the number of compnents, `n_components`, where the lowest BIC/AIC is preferred. \n",
    "\n",
    "The gaussian plots are generated in order to represent the clusters. "
   ]
  },
  {
   "cell_type": "code",
   "execution_count": 4,
   "metadata": {},
   "outputs": [],
   "source": [
    "# \"mass\" must be a clumn of the dataframe (in this case an array of masses)\n",
    "#'n_components' is the number of clusters for the lowest BIC/AIC.\n",
    "\n",
    "def classification(n_components,mass,log=False):\n",
    "    gmm = GaussianMixture(n_components, covariance_type='full',random_state=0)\n",
    "    gmm.fit(mass.values)\n",
    "    cluster_label = gmm.predict(mass.values)\n",
    "    \n",
    "    #Figures:\n",
    "    CL = cluster_label\n",
    "    color=[\"C\"+str(CL[i]+1) for i in range(len(cluster_label))]\n",
    "    x=np.linspace(mass.values.min(),mass.values.max(),1000)\n",
    "        \n",
    "    figure, ax = plt.subplots(1, 2, sharex='col', \n",
    "                              sharey='row', figsize=(10, 5))\n",
    "    \n",
    "    #Gaussians:\n",
    "    for c in range(n_components):\n",
    "        ax[0].plot(x,norm.pdf(x,gmm.means_[c],\n",
    "                              gmm.covariances_[c])[0]/norm.pdf(x,gmm.means_[c],\n",
    "                                                               gmm.covariances_[c])[0].max())\n",
    "\n",
    "    #Scatter:\n",
    "        Mass_a=mass.values[CL==c]    \n",
    "        ax[0].plot(Mass_a,\n",
    "                   np.zeros(len(Mass_a)),\"o\",label='cluster '+str(c+1))#,\n",
    "#                   color='C'+str(c))\n",
    "        ax[1].plot(mass,gmm.predict_proba(mass)[:,c],\"o\",\n",
    "                   label='P_cluster '+str(c+1))\n",
    "    \n",
    "    if log==True:\n",
    "        ax[0].set(xlabel=r'$\\log_{10}$(Mass)')\n",
    "        ax[1].set(xlabel=r'$\\log_{10}$(Mass)')\n",
    "    else:\n",
    "        ax[0].set(xlabel=r'Mass')\n",
    "        ax[1].set(xlabel=r'Mass')\n",
    "        \n",
    "    ax[0].set(ylabel=r'Normal distribution')\n",
    "    ax[1].set(ylabel=r'Posterior probabilities')\n",
    "\n",
    "    ax[0].legend()  \n",
    "    ax[1].legend() \n",
    "        \n",
    "    plt.subplots_adjust(wspace = .1)"
   ]
  },
  {
   "cell_type": "markdown",
   "metadata": {},
   "source": [
    "### Function: Fraction changed\n",
    "\n",
    "This function generates 1000 synthetic systems per each data (the mass an its uncertainty). We take draws from this, and stimate the validation of the classification.  \n",
    "\n",
    "The posteriror probabilities are determinated by the function `gmm.predict()`"
   ]
  },
  {
   "cell_type": "code",
   "execution_count": 23,
   "metadata": {},
   "outputs": [],
   "source": [
    "#'dawns' is the number of synthetic systems per each data known\n",
    "#'data' is a DataFrame of the data, with column \"mass\"\n",
    "#'n_components' is the number of clusters for the lowest BIC/AIC.\n",
    "\n",
    "def fraction_changed(n_components, dawns, data, log=False):\n",
    "    draws=[]\n",
    "\n",
    "    #1000 draws per planetary mass or systrem mass:\n",
    "    for i in range(len(data.values)):\n",
    "        masses=np.random.normal(data.mass.values[i],\n",
    "                                data.mass_error_min.values[i],\n",
    "                                dawns)\n",
    "        masses = masses[masses>0]\n",
    "        draws += [masses]\n",
    "\n",
    "    if log==True:\n",
    "        mass = np.log10(data[[\"mass\"]])\n",
    "        draws = [np.log10(i) for i in draws]\n",
    "        \n",
    "    else:\n",
    "        mass = data[[\"mass\"]]\n",
    "     \n",
    "    #Gausian mixture model for masses  data:  \n",
    "    gmm = GaussianMixture(n_components,covariance_type='full',random_state=0)\n",
    "    gmm.fit(mass.values)\n",
    "    cluster_label = gmm.predict(mass.values)\n",
    "         \n",
    "    #fraction of the synthttic systems wich change classification group:\n",
    "    fraction_changed = []\n",
    "    \n",
    "    #to get only the posotice values of the draws, just get tyhe positives values: \n",
    "    #draws = [i for i in draws if i > 0] or None\n",
    "    \n",
    "    for index in range(len(draws)):\n",
    "        #draw_i=np.abs(draws[index][:,np.newaxis])\n",
    "        draw_i=draws[index][:,np.newaxis]\n",
    "        orig=gmm.predict(np.array(mass))[index]\n",
    "        fraction_changed+=[(orig!=gmm.predict(draw_i)).sum()/1000]\n",
    "    lid=[len(i) for i in draws]\n",
    "    #print( np.min(lid),np.mean(lid) )\n",
    "    return(draws)\n",
    "    #return((np.array(fraction_changed)<=0.1).sum()/len(fraction_changed))\n",
    "    #return fraction_changed"
   ]
  },
  {
   "cell_type": "code",
   "execution_count": 27,
   "metadata": {},
   "outputs": [],
   "source": [
    "frac_mass=fraction_changed(3,1000,planet_data,True)"
   ]
  },
  {
   "cell_type": "code",
   "execution_count": 28,
   "metadata": {},
   "outputs": [
    {
     "data": {
      "text/plain": [
       "(array([  3.,   5.,  22.,  43., 123., 234., 279., 215.,  64.,  12.]),\n",
       " array([-0.62517474, -0.57762158, -0.53006841, -0.48251524, -0.43496207,\n",
       "        -0.3874089 , -0.33985574, -0.29230257, -0.2447494 , -0.19719623,\n",
       "        -0.14964306]),\n",
       " <a list of 10 Patch objects>)"
      ]
     },
     "execution_count": 28,
     "metadata": {},
     "output_type": "execute_result"
    },
    {
     "data": {
      "image/png": "[encoded data removed]",
      "text/plain": [
       "<Figure size 432x288 with 1 Axes>"
      ]
     },
     "metadata": {
      "needs_background": "light"
     },
     "output_type": "display_data"
    }
   ],
   "source": [
    "plt.hist(frac_mass[26])"
   ]
  },
  {
   "cell_type": "code",
   "execution_count": 29,
   "metadata": {},
   "outputs": [
    {
     "data": {
      "text/plain": [
       "(array([ 12.,  64., 215., 279., 234., 123.,  43.,  22.,   5.,   3.]),\n",
       " array([0.14964306, 0.19719623, 0.2447494 , 0.29230257, 0.33985574,\n",
       "        0.3874089 , 0.43496207, 0.48251524, 0.53006841, 0.57762158,\n",
       "        0.62517474]),\n",
       " <a list of 10 Patch objects>)"
      ]
     },
     "execution_count": 29,
     "metadata": {},
     "output_type": "execute_result"
    },
    {
     "data": {
      "image/png": "[encoded data removed]",
      "text/plain": [
       "<Figure size 432x288 with 1 Axes>"
      ]
     },
     "metadata": {
      "needs_background": "light"
     },
     "output_type": "display_data"
    }
   ],
   "source": [
    "plt.hist(np.abs(frac_mass[26]))"
   ]
  },
  {
   "cell_type": "code",
   "execution_count": null,
   "metadata": {},
   "outputs": [],
   "source": []
  },
  {
   "cell_type": "code",
   "execution_count": null,
   "metadata": {},
   "outputs": [],
   "source": []
  },
  {
   "cell_type": "code",
   "execution_count": null,
   "metadata": {},
   "outputs": [],
   "source": []
  },
  {
   "cell_type": "code",
   "execution_count": null,
   "metadata": {},
   "outputs": [],
   "source": []
  },
  {
   "cell_type": "code",
   "execution_count": null,
   "metadata": {},
   "outputs": [],
   "source": []
  },
  {
   "cell_type": "markdown",
   "metadata": {},
   "source": [
    "## Study for the mass\n",
    "\n",
    "For the data of mass we carry out the study of clusters and criterion, as a result:"
   ]
  },
  {
   "cell_type": "code",
   "execution_count": null,
   "metadata": {},
   "outputs": [],
   "source": [
    "info_mass = inf_criterion(20, planet_data[[\"mass\"]])"
   ]
  },
  {
   "cell_type": "markdown",
   "metadata": {},
   "source": [
    "Taking the number of clusters as 10, we proceed to carry aut the classification. "
   ]
  },
  {
   "cell_type": "code",
   "execution_count": null,
   "metadata": {},
   "outputs": [],
   "source": [
    "mass_n_clusters=10\n",
    "mass=planet_data[[\"mass\"]]\n",
    "class_mass = classification(mass_n_clusters, mass)"
   ]
  },
  {
   "cell_type": "markdown",
   "metadata": {},
   "source": [
    "Finally the we stimate the validation of the classification. "
   ]
  },
  {
   "cell_type": "code",
   "execution_count": null,
   "metadata": {},
   "outputs": [],
   "source": [
    "mass_n_clusters=5\n",
    "dawns=10000\n",
    "\n",
    "frac_mass=fraction_changed(mass_n_clusters,dawns,planet_data,False)\n",
    "print(\"The fraction of changes = \" + str(frac_mass))"
   ]
  },
  {
   "cell_type": "markdown",
   "metadata": {},
   "source": [
    "## Study for the logarithm of the mass\n",
    "\n",
    "For the data of mass we carry out the study of clusters and criterion, as a result:"
   ]
  },
  {
   "cell_type": "code",
   "execution_count": null,
   "metadata": {},
   "outputs": [],
   "source": [
    "info_logmass = inf_criterion(20, np.log(planet_data[[\"mass\"]]))"
   ]
  },
  {
   "cell_type": "markdown",
   "metadata": {},
   "source": [
    "Taking the number of clusters as 3, we proceed to carry aut the classification."
   ]
  },
  {
   "cell_type": "code",
   "execution_count": null,
   "metadata": {},
   "outputs": [],
   "source": [
    "logmass_n_clusters = 3\n",
    "logmass = np.log10(planet_data[[\"mass\"]])\n",
    "class_logmass = classification(logmass_n_clusters, logmass, True)"
   ]
  },
  {
   "cell_type": "markdown",
   "metadata": {},
   "source": [
    "Finally the we stimate the validation of the classification. "
   ]
  },
  {
   "cell_type": "code",
   "execution_count": null,
   "metadata": {},
   "outputs": [],
   "source": [
    "logmass_n_clusters = 3\n",
    "frac_logmass = fraction_changed(logmass_n_clusters,1000,planet_data,True)\n",
    "print(\"The fraction of changes = \" + str(frac_logmass))"
   ]
  },
  {
   "cell_type": "markdown",
   "metadata": {},
   "source": [
    "## Study for the total mass per system\n",
    "(only planetary masses)\n",
    "\n",
    "$$M_{Tj}=\\sum_{i}M_{i,j}$$ \n",
    "\n",
    "where $j$ is the number of the systems.\n",
    "\n",
    "For the data of total mass per system (name of stars), we carry out the study of clusters and criterion, but first was necessary carry aut a propagation of uncertainty, as a result:"
   ]
  },
  {
   "cell_type": "code",
   "execution_count": null,
   "metadata": {},
   "outputs": [],
   "source": [
    "uncertanty_squared = sistem_data['mass_error_min'].multiply(sistem_data['mass_error_min'])\n",
    "sistem_data = sistem_data.assign(uncertanty_squared=sistem_data['mass_error_min'].multiply(sistem_data['mass_error_min']))\n",
    "sistem_data.head()"
   ]
  },
  {
   "cell_type": "markdown",
   "metadata": {},
   "source": [
    "Then, the systems are grouped by the name of the star."
   ]
  },
  {
   "cell_type": "code",
   "execution_count": null,
   "metadata": {},
   "outputs": [],
   "source": [
    "masses_system = sistem_data.groupby(\"star_name\")\n",
    "system = list(masses_system.groups.keys())\n",
    "Mass_total = masses_system['mass'].sum()\n",
    "uncertainty = np.sqrt(masses_system['uncertanty_squared'].sum())\n",
    "\n",
    "\n",
    "system_data = pd.DataFrame({'system_name':system,\n",
    "                            'mass':Mass_total.tolist(),\n",
    "                            'mass_error_min':uncertainty.tolist()})\n",
    "system_data.head()"
   ]
  },
  {
   "cell_type": "markdown",
   "metadata": {},
   "source": [
    "Once the data are grouped by system (mass per system), we carry aut the study of clusters and criterion, as a result:"
   ]
  },
  {
   "cell_type": "code",
   "execution_count": null,
   "metadata": {},
   "outputs": [],
   "source": [
    "info_Total_mass = inf_criterion(30, system_data[[\"mass\"]])"
   ]
  },
  {
   "cell_type": "code",
   "execution_count": null,
   "metadata": {},
   "outputs": [],
   "source": [
    "totmass_n_clusters = 17\n",
    "totmass = system_data[[\"mass\"]]\n",
    "classif_totmass = classification(totmass_n_clusters, totmass,False)"
   ]
  },
  {
   "cell_type": "code",
   "execution_count": null,
   "metadata": {},
   "outputs": [],
   "source": [
    "frac_totmass = fraction_changed(totmass_n_clusters,1000,system_data)\n",
    "print(\"the fraction of changes = \" + str(frac_totmass))"
   ]
  },
  {
   "cell_type": "markdown",
   "metadata": {},
   "source": [
    "## Study for the logarithm of the total mass per system\n",
    "(only planetary masses)"
   ]
  },
  {
   "cell_type": "code",
   "execution_count": null,
   "metadata": {},
   "outputs": [],
   "source": [
    "info_tot_logmass = inf_criterion(20, np.log(system_data[[\"mass\"]]))"
   ]
  },
  {
   "cell_type": "code",
   "execution_count": null,
   "metadata": {},
   "outputs": [],
   "source": [
    "Tot_logmass_n_clusters=5\n",
    "Tot_logmass=np.log10(system_data[[\"mass\"]])\n",
    "classif_Tot_logmass = classification(Tot_logmass_n_clusters, \n",
    "                                     Tot_logmass,True)"
   ]
  },
  {
   "cell_type": "code",
   "execution_count": null,
   "metadata": {},
   "outputs": [],
   "source": [
    "frac_tot_logmass = fraction_changed(Tot_logmass_n_clusters,1000,\n",
    "                                    system_data,True)\n",
    "print(\"The fraction of changes = \" + str(frac_logmass))"
   ]
  },
  {
   "cell_type": "code",
   "execution_count": null,
   "metadata": {},
   "outputs": [],
   "source": []
  }
 ],
 "metadata": {
  "kernelspec": {
   "display_name": "Python 3",
   "language": "python",
   "name": "python3"
  },
  "language_info": {
   "codemirror_mode": {
    "name": "ipython",
    "version": 3
   },
   "file_extension": ".py",
   "mimetype": "text/x-python",
   "name": "python",
   "nbconvert_exporter": "python",
   "pygments_lexer": "ipython3",
   "version": "3.7.4"
  }
 },
 "nbformat": 4,
 "nbformat_minor": 2
}
